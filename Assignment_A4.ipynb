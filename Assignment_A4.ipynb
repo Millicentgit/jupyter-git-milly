{
 "cells": [
  {
   "cell_type": "markdown",
   "id": "dc82157a-b57e-4133-a0cf-e6f591d5264e",
   "metadata": {},
   "source": [
    "# Assignment A4\n",
    "\n",
    "This Jupyter Notebook file is very simple. First, a shapefile is loaded using GeoPandas and then visualized.\n"
   ]
  },
  {
   "cell_type": "code",
   "execution_count": null,
   "id": "8073c199-1033-4175-8e72-f0cefdbbcfa6",
   "metadata": {},
   "outputs": [],
   "source": [
    "import geopandas as gpd\n",
    "\n",
    "# Load the shapefile from its actual location\n",
    "FILE = \"C:/Users/milli/Projects/ne_10m_populated_places.shp\"\n",
    "gdf = gpd.read_file(FILE)\n",
    "gdf.head()\n"
   ]
  },
  {
   "cell_type": "code",
   "execution_count": null,
   "id": "b7c88292-98a2-473c-8f1d-e55f730a154d",
   "metadata": {},
   "outputs": [],
   "source": [
    "# Visualize the shapefile\n",
    "gdf.explore()\n"
   ]
  }
 ],
 "metadata": {
  "kernelspec": {
   "display_name": "Python [conda env:unigis]",
   "language": "python",
   "name": "conda-env-unigis-py"
  },
  "language_info": {
   "codemirror_mode": {
    "name": "ipython",
    "version": 3
   },
   "file_extension": ".py",
   "mimetype": "text/x-python",
   "name": "python",
   "nbconvert_exporter": "python",
   "pygments_lexer": "ipython3",
   "version": "3.10.18"
  }
 },
 "nbformat": 4,
 "nbformat_minor": 5
}
